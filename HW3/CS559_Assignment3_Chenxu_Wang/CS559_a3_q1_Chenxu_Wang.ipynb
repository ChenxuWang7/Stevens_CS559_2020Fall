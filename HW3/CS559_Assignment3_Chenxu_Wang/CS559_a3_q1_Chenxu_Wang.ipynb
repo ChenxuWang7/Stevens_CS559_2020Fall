{
 "cells": [
  {
   "cell_type": "markdown",
   "metadata": {},
   "source": [
    "# CS559 Assignment3 Problem1 k-means\n",
    "Student Name: Chenxu Wang  \n",
    "CWID: 10457625  \n",
    "E-mail: cwang101@stevens.edu  "
   ]
  },
  {
   "cell_type": "code",
   "execution_count": 1,
   "metadata": {},
   "outputs": [],
   "source": [
    "import numpy as np\n",
    "import math "
   ]
  },
  {
   "cell_type": "code",
   "execution_count": 2,
   "metadata": {},
   "outputs": [],
   "source": [
    "# define a function to calculating the Euclidean distance between two data points\n",
    "def distance(x1, x2):\n",
    "    e1 = (x1[0]-x2[0])**2\n",
    "    e2 = (x1[1]-x2[1])**2\n",
    "    d = math.sqrt(e1+e2)\n",
    "    return d"
   ]
  },
  {
   "cell_type": "code",
   "execution_count": 17,
   "metadata": {},
   "outputs": [],
   "source": [
    "# Iterate all data\n",
    "# Find the cluster that has minimal distance between this point and the center of this cluster\n",
    "# update the marker of this point\n",
    "# data: 10*2\n",
    "# centers: 3*2\n",
    "# Output:\n",
    "# markers: 10x3\n",
    "def update_marker(data, centers):\n",
    "    # set the dimension of makers up\n",
    "    s = (10,3)\n",
    "    markers = np.zeros(s, dtype = int) # 10x3\n",
    "    for i in range(10):\n",
    "        d0 = distance(data[i], centers[0])\n",
    "        # print(d0)\n",
    "        d1 = distance(data[i], centers[1])\n",
    "        # print(d1)\n",
    "        d2 = distance(data[i], centers[2])\n",
    "        # print(d2)\n",
    "        items = [(d0, 0), (d1, 1), (d2, 2)]\n",
    "        dictionary = dict(items)\n",
    "        max_dis = min(d0, d1, d2)\n",
    "        j = dictionary[max_dis]\n",
    "        markers[i][j] = 1\n",
    "    return markers   "
   ]
  },
  {
   "cell_type": "code",
   "execution_count": 4,
   "metadata": {},
   "outputs": [],
   "source": [
    "# Minimize J with respect to the center_k, keeping markers_k fixed.\n",
    "# Mean of all of the data points Xn assigned to cluster k.\n",
    "# data: 10x2\n",
    "# markers: 10x3\n",
    "# Output:\n",
    "# centers: 3x2\n",
    "def update_center(data, markers):\n",
    "    # Find the points in cluster 1\n",
    "    c0 = []\n",
    "    for i in range(10):\n",
    "        if(markers[i][0]== 1):\n",
    "            c0.append(data[i])\n",
    "    cluster0 = np.array(c0)\n",
    "    # update the center of cluster 1\n",
    "    center0 = np.sum(cluster0, axis = 0) / len(cluster0)\n",
    "\n",
    "    # Find the points in cluster 2\n",
    "    c1 = []\n",
    "    for i in range(10):\n",
    "        if(markers[i][1]== 1):\n",
    "            c1.append(data[i])\n",
    "    cluster1 = np.array(c1)\n",
    "    # update the center of cluster 2\n",
    "    center1 = np.sum(cluster1, axis = 0)/ len(cluster1)\n",
    "    \n",
    "    # Find the points in cluster 3\n",
    "    c2 = []\n",
    "    for i in range(10):\n",
    "        if(markers[i][2]== 1):\n",
    "            c2.append(data[i])\n",
    "    cluster2 = np.array(c2)\n",
    "    # update the center of cluster 3\n",
    "    center2 = np.sum(cluster2, axis = 0)/ len(cluster2)\n",
    "    \n",
    "    centers = np.array([center0, center1, center2])\n",
    "    return centers"
   ]
  },
  {
   "cell_type": "code",
   "execution_count": 14,
   "metadata": {},
   "outputs": [],
   "source": [
    "# For example\n",
    "\n",
    "data = np.array([[5.9, 3.2], [4.6, 2.9], [6.2, 2.8], [4.7, 3.2], [5.5, 4.2], [5.0, 3.0],\n",
    "              [4.9, 3.1], [6.7, 3.1], [5.1, 3.8], [6.0, 3.0]])\n",
    "# initialize center_of_cluster\n",
    "center_of_cluster = np.array([[6.2, 3.2], [6.6, 3.7], [6.5, 3.0]]) \n",
    "# initialize cluster_marker\n",
    "# set the dimension of makers up\n",
    "#s = (10,3)\n",
    "#cluster_marker = np.zeros(s, dtype = int) # 10x3\n"
   ]
  },
  {
   "cell_type": "code",
   "execution_count": null,
   "metadata": {},
   "outputs": [],
   "source": []
  },
  {
   "cell_type": "code",
   "execution_count": 18,
   "metadata": {},
   "outputs": [
    {
     "name": "stdout",
     "output_type": "stream",
     "text": [
      "iteration :  1\n",
      "center of RED is [4.8  3.05]\n",
      "center of GREEN is [5.3 4. ]\n",
      "center of BLUE is [6.2   3.025]\n",
      "--------------------------------------------------\n",
      "iteration :  2\n",
      "center of RED is [4.8  3.05]\n",
      "center of GREEN is [5.3 4. ]\n",
      "center of BLUE is [6.2   3.025]\n",
      "--------------------------------------------------\n",
      "iteration :  3\n",
      "center of RED is [4.8  3.05]\n",
      "center of GREEN is [5.3 4. ]\n",
      "center of BLUE is [6.2   3.025]\n",
      "--------------------------------------------------\n",
      "iteration :  4\n",
      "center of RED is [4.8  3.05]\n",
      "center of GREEN is [5.3 4. ]\n",
      "center of BLUE is [6.2   3.025]\n",
      "--------------------------------------------------\n"
     ]
    }
   ],
   "source": [
    "# Given different initialization of center_of_cluster, cluster_marker\n",
    "# you will have different array\n",
    "\n",
    "# But better show outputs like following code.\n",
    "\n",
    "for i in range(4):\n",
    "    cluster_marker = update_marker(data, center_of_cluster)\n",
    "    center_of_cluster = update_center(data, cluster_marker)\n",
    "    print(\"iteration : \", i+1)\n",
    "    print(\"center of RED is\", center_of_cluster[0, :])\n",
    "    print(\"center of GREEN is\", center_of_cluster[1, :])\n",
    "    print(\"center of BLUE is\", center_of_cluster[2, :])\n",
    "    print(\"--------------------------------------------------\")"
   ]
  },
  {
   "cell_type": "code",
   "execution_count": 16,
   "metadata": {},
   "outputs": [
    {
     "name": "stdout",
     "output_type": "stream",
     "text": [
      "[[0 0 1]\n",
      " [1 0 0]\n",
      " [0 0 1]\n",
      " [1 0 0]\n",
      " [0 1 0]\n",
      " [1 0 0]\n",
      " [1 0 0]\n",
      " [0 0 1]\n",
      " [0 1 0]\n",
      " [0 0 1]]\n"
     ]
    }
   ],
   "source": [
    "print(cluster_marker)"
   ]
  },
  {
   "cell_type": "markdown",
   "metadata": {},
   "source": [
    "# Problem1\n",
    "(1) After one iteration, the center of the first cluster is (4.8  3.05).  \n",
    "(2) After two iteration, the center of the second cluster is (5.3 4.0).  \n",
    "(3) After two iteration, the center of the second cluster is (6.2   3.025).  \n",
    "(4) There are 2 iterations required for the clusters to converge.  "
   ]
  },
  {
   "cell_type": "code",
   "execution_count": null,
   "metadata": {},
   "outputs": [],
   "source": []
  }
 ],
 "metadata": {
  "kernelspec": {
   "display_name": "Python 3",
   "language": "python",
   "name": "python3"
  },
  "language_info": {
   "codemirror_mode": {
    "name": "ipython",
    "version": 3
   },
   "file_extension": ".py",
   "mimetype": "text/x-python",
   "name": "python",
   "nbconvert_exporter": "python",
   "pygments_lexer": "ipython3",
   "version": "3.7.9"
  }
 },
 "nbformat": 4,
 "nbformat_minor": 4
}
